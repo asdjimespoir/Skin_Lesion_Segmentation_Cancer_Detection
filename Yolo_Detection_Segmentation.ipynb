{
  "nbformat": 4,
  "nbformat_minor": 0,
  "metadata": {
    "colab": {
      "provenance": [],
      "collapsed_sections": [
        "geFSQlDRm0Dc",
        "jWWpvZSZm2Dx",
        "ac9OqOH_m_lw",
        "1CEAcfeanIS_"
      ],
      "authorship_tag": "ABX9TyNWeXA8wIAEl9XdDuMowCJv",
      "include_colab_link": true
    },
    "kernelspec": {
      "name": "python3",
      "display_name": "Python 3"
    },
    "language_info": {
      "name": "python"
    },
    "accelerator": "GPU",
    "gpuClass": "standard"
  },
  "cells": [
    {
      "cell_type": "markdown",
      "metadata": {
        "id": "view-in-github",
        "colab_type": "text"
      },
      "source": [
        "<a href=\"https://colab.research.google.com/github/asdjimespoir/Skin_Lesion_Segmentation_Cancer_Detection/blob/main/Yolo_Detection_Segmentation.ipynb\" target=\"_parent\"><img src=\"https://colab.research.google.com/assets/colab-badge.svg\" alt=\"Open In Colab\"/></a>"
      ]
    },
    {
      "cell_type": "markdown",
      "source": [
        "# **Tâche 2 : Détection et segmentation de lésions cutanées avec YOLOv8**\n",
        "\n",
        ">Dans cette tâche nous allons voir comment entrainer la detection d'objets et la segmentation d'image sur un jeux de données personnalisé avec Yolo. Mais avant tout, `c'est quoi YOLOv8 ?` `Qu'est-ce que la détection d'objets ?` `Qu'est que la segmentation d'image ?` sont là des questions auxquelles nous devons répondre."
      ],
      "metadata": {
        "id": "-mFWi-gyhKD9"
      }
    },
    {
      "cell_type": "markdown",
      "source": [
        "#### **C'est quoi YOLOv8 ?**"
      ],
      "metadata": {
        "id": "geFSQlDRm0Dc"
      }
    },
    {
      "cell_type": "markdown",
      "source": [
        "Alors `YOLOv8`  est un modèle de détection d'objets de pointe utilisé dans les tâches de vision par ordinateur. YOLO (You Only Look Once) est un type de réseau de détection d'objets rapide et efficace, ce qui en fait un choix populaire pour la détection d'objets en temps réel dans les applications de vision par ordinateur. YOLOv8 est la huitième version du modèle YOLO et est connu pour être l'un des modèles de détection d'objets les plus performants en termes de précision et de vitesse.\n",
        "\n",
        "Dans YOLO, une image est divisée en une grille de cellules et pour chaque cellule, le modèle prédit les boîtes englobantes et les probabilités de classe des objets qui pourraient être présents dans la cellule. L'architecture YOLO est conçue pour être rapide, ce qui la rend adaptée à la détection d'objets en temps réel dans diverses applications de vision par ordinateur telles que les véhicules autonomes, la vidéosurveillance et la récupération d'images."
      ],
      "metadata": {
        "id": "Lrm_p73llkBh"
      }
    },
    {
      "cell_type": "markdown",
      "source": [
        "#### **Qu'est-ce que la détection d'objets ?**"
      ],
      "metadata": {
        "id": "jWWpvZSZm2Dx"
      }
    },
    {
      "cell_type": "markdown",
      "source": [
        "La détection d'objets est un domaine de la vision par ordinateur qui a pour but de localiser et d'identifier des objets spécifiques dans une image ou une vidéo. Il s'agit d'une tâche de reconnaissance d'images dans laquelle le système doit être capable de détecter la présence et l'emplacement des objets dans l'image, ainsi que de les classer en différentes catégories, telles que les voitures, les personnes, les animaux, etc.\n",
        "\n",
        "La détection d'objets est largement utilisée dans de nombreuses applications, notamment la reconnaissance de la circulation, la surveillance vidéo, la reconnaissance de la scène, la reconnaissance de la forme, la reconnaissance d'images, etc. Les algorithmes de détection d'objets peuvent être basés sur des techniques telles que les réseaux de neurones convolutionnels, les méthodes basées sur les caractéristiques, les méthodes basées sur les modèles et les méthodes de détection de bord. Les réseaux de neurones convolutionnels, tels que YOLO et Faster R-CNN, sont actuellement considérés comme les méthodes les plus avancées pour la détection d'objets en raison de leur précision et de leur efficacité en termes de temps de traitement."
      ],
      "metadata": {
        "id": "apb-ODummuHB"
      }
    },
    {
      "cell_type": "markdown",
      "source": [
        " #### **Qu'est que la segmentation d'image ?**"
      ],
      "metadata": {
        "id": "ac9OqOH_m_lw"
      }
    },
    {
      "cell_type": "markdown",
      "source": [
        "La segmentation d'image est un domaine de la vision par ordinateur qui consiste à diviser une image en plusieurs régions homogènes, appelées segments, en fonction de certains critères. Chaque segment représente une région d'intérêt distincte de l'image, comme un objet, une personne, un animal, etc.\n",
        "\n",
        "La segmentation d'image est un prétraitement important pour de nombreuses tâches en vision par ordinateur, telles que la reconnaissance d'objets, la reconnaissance de la forme, la reconstruction 3D, etc. Les algorithmes de segmentation d'image peuvent être basés sur des techniques telles que les réseaux de neurones, les algorithmes de filtrage, les algorithmes basés sur les modèles, etc. Les réseaux de neurones, tels que U-Net et SegNet, sont actuellement considérés comme les méthodes les plus avancées pour la segmentation d'image en raison de leur capacité à capturer des caractéristiques complexes et à générer des résultats précis."
      ],
      "metadata": {
        "id": "BsOcducvoARL"
      }
    },
    {
      "cell_type": "code",
      "source": [
        "%%capture\n",
        "!pip install ultralytics==8.0.20"
      ],
      "metadata": {
        "id": "8aNnmdiTVX5w"
      },
      "execution_count": null,
      "outputs": []
    },
    {
      "cell_type": "code",
      "source": [
        "import os\n",
        "HOME = os.getcwd()\n",
        "\n",
        "from IPython import display\n",
        "display.clear_output()\n",
        "\n",
        "import ultralytics\n",
        "ultralytics.checks()\n",
        "#!yolo mode=checks\n",
        "from ultralytics import YOLO\n",
        "from IPython.display import display, Image"
      ],
      "metadata": {
        "id": "pKewFymO7Y0i"
      },
      "execution_count": null,
      "outputs": []
    },
    {
      "cell_type": "code",
      "source": [
        "from google.colab import drive\n",
        "drive.mount('/content/Drive')"
      ],
      "metadata": {
        "id": "HmaK82Wd8ZNY"
      },
      "execution_count": null,
      "outputs": []
    },
    {
      "cell_type": "markdown",
      "source": [
        "## **Préparation du Dataset et importation des modules nécessaires**\n",
        "\n",
        "Installons la bibliothèque Python `Roboflow` et utilisons l'API associée pour accéder à notre dataset labellisé sur Roboflow et téléchargeons-le au format yolov8.\n"
      ],
      "metadata": {
        "id": "bEpa7Z40doaf"
      }
    },
    {
      "cell_type": "code",
      "source": [
        "!mkdir {HOME}/datasets\n",
        "%cd {HOME}/datasets\n",
        "\n",
        "!pip install roboflow\n",
        "\n",
        "from roboflow import Roboflow\n",
        "rf = Roboflow(api_key=\"bOBnXq0Z83ShJXJhxdl4\")\n",
        "project = rf.workspace(\"asdjim-espoir-guelmian-vi-guelmian-vi\").project(\"cancer-qshvo\")\n",
        "dataset = project.version(4).download(\"yolov8\")\n"
      ],
      "metadata": {
        "id": "SxffkqxN-VNg"
      },
      "execution_count": null,
      "outputs": []
    },
    {
      "cell_type": "markdown",
      "source": [
        "## **Détection d'object**"
      ],
      "metadata": {
        "id": "1CEAcfeanIS_"
      }
    },
    {
      "cell_type": "markdown",
      "source": [
        "### Formation\n",
        "\n",
        "Entraînons le modèle YOLOv8s sur un notre dataset importé pour la détection d'objets en utilisant l'outil de ligne de commande YOLO et les paramètres suivants :\n",
        "\n",
        "- `task=detect` indique que la tâche consiste en une détection d'objets.\n",
        "\n",
        "- `mode=train` indique que nous souhaitons entraîner un modèle.\n",
        "\n",
        "- `model=yolov8s.pt` indique que nous souhaitons utiliser le modèle YOLOv8s.\n",
        "\n",
        "- `data={dataset.location}/data.yaml` fournit l'emplacement des données d'entraînement à partir de la variable dataset définie précédemment.\n",
        "\n",
        "- `epochs=25` indique que nous souhaitons entraîner le modèle sur 25 époques.\n",
        "\n",
        "- `imgsz=800` indique la taille de l'image utilisée pour l'entraînement.\n",
        "\n",
        "- `plots=True` indique que nous souhaitons afficher des graphiques de suivi de la performance du modèle au fil de l'entraînement.\n"
      ],
      "metadata": {
        "id": "NMeWjgg9kj6r"
      }
    },
    {
      "cell_type": "code",
      "source": [
        "%cd {HOME}\n",
        "!yolo task=detect mode=train model=yolov8s.pt data={dataset.location}/data.yaml epochs=50 imgsz=800 plots=True"
      ],
      "metadata": {
        "id": "ne97Tk2yW3AP"
      },
      "execution_count": null,
      "outputs": []
    },
    {
      "cell_type": "code",
      "source": [
        "!ls {HOME}/runs/detect/train2/"
      ],
      "metadata": {
        "id": "oMmaRFQGY1v9"
      },
      "execution_count": null,
      "outputs": []
    },
    {
      "cell_type": "markdown",
      "source": [
        "Affichons la matrice de confusion"
      ],
      "metadata": {
        "id": "uLNGcy7IrxMI"
      }
    },
    {
      "cell_type": "code",
      "source": [
        "%cd {HOME}\n",
        "Image(filename=f'{HOME}/runs/detect/train2/confusion_matrix.png', width=600)"
      ],
      "metadata": {
        "id": "4zSuniYRY62y"
      },
      "execution_count": null,
      "outputs": []
    },
    {
      "cell_type": "markdown",
      "source": [
        "Affichons les sorties plots des metriques pour les données de formation et de validation"
      ],
      "metadata": {
        "id": "dOD1wzb2r8JN"
      }
    },
    {
      "cell_type": "code",
      "source": [
        "%cd {HOME}\n",
        "Image(filename=f'{HOME}/runs/detect/train2/results.png', width=600)"
      ],
      "metadata": {
        "id": "Kkj2Zi1EY_2u"
      },
      "execution_count": null,
      "outputs": []
    },
    {
      "cell_type": "markdown",
      "source": [
        "Resultat des prédiction sur les données de validation"
      ],
      "metadata": {
        "id": "2SXUnUBwsbak"
      }
    },
    {
      "cell_type": "code",
      "source": [
        "%cd {HOME}\n",
        "Image(filename=f'{HOME}/runs/detect/train2/val_batch0_pred.jpg', width=600)"
      ],
      "metadata": {
        "id": "Mq_kx76vZCtH"
      },
      "execution_count": null,
      "outputs": []
    },
    {
      "cell_type": "markdown",
      "source": [
        "### Validation du modèle"
      ],
      "metadata": {
        "id": "vjShBUs2jZ7T"
      }
    },
    {
      "cell_type": "code",
      "source": [
        "%cd {HOME}\n",
        "!yolo task=detect mode=val model={HOME}/runs/detect/train2/weights/best.pt data={dataset.location}/data.yaml"
      ],
      "metadata": {
        "id": "nnH7u8dPZMDy"
      },
      "execution_count": null,
      "outputs": []
    },
    {
      "cell_type": "markdown",
      "source": [
        "### Inférence avec le modèle personnalisé\n",
        "\n",
        "Prédiction sur les données de test avec notre modèle final"
      ],
      "metadata": {
        "id": "aIA62nC2jqh8"
      }
    },
    {
      "cell_type": "code",
      "source": [
        "%cd {HOME}\n",
        "!yolo task=detect mode=predict model={HOME}/runs/detect/train2/weights/best.pt conf=0.25 source={dataset.location}/test/images save=True"
      ],
      "metadata": {
        "id": "S_eTJ9wlZUOK"
      },
      "execution_count": null,
      "outputs": []
    },
    {
      "cell_type": "markdown",
      "source": [
        "**Jetons un coup d'oeil à quelques résultats.**"
      ],
      "metadata": {
        "id": "CoHuhGc8jztI"
      }
    },
    {
      "cell_type": "code",
      "source": [
        "import glob\n",
        "from IPython.display import Image, display\n",
        "\n",
        "for image_path in glob.glob(f'{HOME}/runs/detect/predict/*.jpg')[:]:\n",
        "      display(Image(filename=image_path, width=300))\n",
        "      print(\"\\n\")"
      ],
      "metadata": {
        "id": "QCWNLTcjZZeW"
      },
      "execution_count": null,
      "outputs": []
    },
    {
      "cell_type": "markdown",
      "source": [
        "### Déploiement du modèle"
      ],
      "metadata": {
        "id": "OJY698GnYxaY"
      }
    },
    {
      "cell_type": "code",
      "source": [
        "project.version(dataset.version).deploy(model_type=\"yolov8\", model_path=f\"{HOME}/runs/detect/train2/\")"
      ],
      "metadata": {
        "id": "I1xStChR2hBV"
      },
      "execution_count": null,
      "outputs": []
    },
    {
      "cell_type": "code",
      "source": [
        "#Exécutez des inférences sur votre modèle à l'aide d'une API en nuage persistante et à mise à l'échelle automatique.\n",
        "\n",
        "#Chargement du modèle\n",
        "model = project.version(dataset.version).model\n",
        "\n",
        "#Choisir une image aléatoire de l'ensemble de test\n",
        "import os, random\n",
        "test_set_loc = dataset.location + \"/test/images/\"\n",
        "random_test_image = random.choice(os.listdir(test_set_loc))\n",
        "print(\"running inference on \" + random_test_image)\n",
        "\n",
        "pred = model.predict(test_set_loc + random_test_image, confidence=40, overlap=30).json()\n",
        "pred"
      ],
      "metadata": {
        "id": "cu_csJHw2maV"
      },
      "execution_count": null,
      "outputs": []
    },
    {
      "cell_type": "markdown",
      "source": [
        "### 🐍 SDK Python\n",
        "\n",
        "Le moyen le plus simple d'utiliser YOLOv8 directement dans un environnement Python."
      ],
      "metadata": {
        "id": "CosuHscncqzs"
      }
    },
    {
      "cell_type": "code",
      "source": [
        "model = YOLO(f'{HOME}/yolov8s.pt')#/runs/detect/train2/weights/best.pt\n",
        "results = model.predict(source='/content/Drive/MyDrive/DL/HAM/Part_1/ISIC_0027820.jpg', conf=0.25)"
      ],
      "metadata": {
        "id": "rxnyUWGW-E_K"
      },
      "execution_count": null,
      "outputs": []
    },
    {
      "cell_type": "code",
      "source": [
        "results[0].boxes.xyxy"
      ],
      "metadata": {
        "id": "CVkMJt5z-JHD"
      },
      "execution_count": null,
      "outputs": []
    },
    {
      "cell_type": "code",
      "source": [
        "results[0].boxes.conf"
      ],
      "metadata": {
        "id": "vNVhLtfW-R_M"
      },
      "execution_count": null,
      "outputs": []
    },
    {
      "cell_type": "code",
      "source": [
        "results[0].boxes.cls"
      ],
      "metadata": {
        "id": "I2qnEHNl-Si_"
      },
      "execution_count": null,
      "outputs": []
    },
    {
      "cell_type": "markdown",
      "source": [
        "## **Segmentation instance**"
      ],
      "metadata": {
        "id": "_FH5mkryNFwK"
      }
    },
    {
      "cell_type": "code",
      "source": [
        "!yolo task=segment mode=predict model=yolov8s-seg.pt conf=0.4 source='/content/Drive/MyDrive/DL/HAM/Part_1/ISIC_0024306.jpg' save=True"
      ],
      "metadata": {
        "id": "BRoFKK2gQBy2"
      },
      "execution_count": null,
      "outputs": []
    },
    {
      "cell_type": "code",
      "source": [
        "%cd {HOME}\n",
        "Image(filename='runs/segment/predict6/ISIC_0024306.jpg', height=600)"
      ],
      "metadata": {
        "id": "x4qmYIImQlzd"
      },
      "execution_count": null,
      "outputs": []
    },
    {
      "cell_type": "code",
      "source": [
        "!pip install roboflow\n",
        "\n",
        "from roboflow import Roboflow\n",
        "rf = Roboflow(api_key=\"bOBnXq0Z83ShJXJhxdl4\")\n",
        "project = rf.workspace(\"nicolai-hoirup-nielsen\").project(\"cupsegmentation\")\n",
        "dataset = project.version(1).download(\"yolov8\")"
      ],
      "metadata": {
        "id": "OiLb-4RkYHRJ"
      },
      "execution_count": null,
      "outputs": []
    },
    {
      "cell_type": "code",
      "source": [
        "#%cd {HOME}\n",
        "!yolo task=segment mode=train model=yolov8l-seg.pt data={dataset.location}/data.yaml epochs=15 imgsz=640"
      ],
      "metadata": {
        "id": "mU44KJabNOFw"
      },
      "execution_count": null,
      "outputs": []
    },
    {
      "cell_type": "code",
      "source": [],
      "metadata": {
        "id": "sJeNI9lqNn2c"
      },
      "execution_count": null,
      "outputs": []
    }
  ]
}